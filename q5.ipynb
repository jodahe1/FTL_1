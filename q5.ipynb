{
 "cells": [
  {
   "cell_type": "code",
   "execution_count": 1,
   "metadata": {},
   "outputs": [
    {
     "name": "stdout",
     "output_type": "stream",
     "text": [
      "a2b1c5a3\n",
      "abc\n",
      "a\n"
     ]
    }
   ],
   "source": [
    "def compress_string(s: str) -> str:\n",
    "    if not s:\n",
    "        return s\n",
    "\n",
    "    compressed = []\n",
    "    current_char = s[0]\n",
    "    count = 1\n",
    "\n",
    "    for char in s[1:]:\n",
    "        if char == current_char:\n",
    "            count += 1\n",
    "        else:\n",
    "            compressed.append(f\"{current_char}{count}\")\n",
    "            current_char = char\n",
    "            count = 1\n",
    "    compressed.append(f\"{current_char}{count}\")\n",
    "\n",
    "    compressed_str = ''.join(compressed)\n",
    "    return compressed_str if len(compressed_str) < len(s) else s\n",
    "\n",
    "\n",
    "print(compress_string(\"aabcccccaaa\"))\n",
    "print(compress_string(\"abc\"))\n",
    "print(compress_string(\"a\"))\n"
   ]
  }
 ],
 "metadata": {
  "kernelspec": {
   "display_name": "base",
   "language": "python",
   "name": "python3"
  },
  "language_info": {
   "codemirror_mode": {
    "name": "ipython",
    "version": 3
   },
   "file_extension": ".py",
   "mimetype": "text/x-python",
   "name": "python",
   "nbconvert_exporter": "python",
   "pygments_lexer": "ipython3",
   "version": "3.11.7"
  }
 },
 "nbformat": 4,
 "nbformat_minor": 2
}
